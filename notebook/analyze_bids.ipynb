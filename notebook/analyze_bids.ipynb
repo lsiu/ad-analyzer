{
  "cells": [
    {
      "cell_type": "markdown",
      "id": "9b1e4d1d",
      "metadata": {},
      "source": [
        "# Analyzing OpenRTB Bids\n",
        "\n",
        "This notebook analyzes bid request/response pairs from OpenRTB data to extract placement IDs with their corresponding bid prices from each demand source. The following fields are commonly used to identify placement IDs in OpenRTB:\n",
        "\n",
        "1. `imp.ext.gpid` - Global Placement ID\n",
        "2. `imp.tagid` - Tag ID\n",
        "3. `imp.ext.data.pbadslot` - Publisher Ad Slot\n",
        "4. `imp.id` - Impression ID\n",
        "5. `imp.ext.dfp_id` - DFP Ad Unit Code\n",
        "\n",
        "We'll extract these placement identifiers along with the bid prices for each demand source."
      ]
    },
    {
      "cell_type": "code",
      "execution_count": null,
      "id": "c15aa267",
      "metadata": {},
      "outputs": [],
      "source": [
        "try:\n",
        "    import pandas as pd\n",
        "except ImportError:\n",
        "    import sys\n",
        "    !{sys.executable} -m pip install pandas"
      ]
    },
    {
      "cell_type": "code",
      "execution_count": null,
      "id": "881b944e",
      "metadata": {},
      "outputs": [],
      "source": [
        "import json\n",
        "import os\n",
        "import re\n",
        "from glob import glob\n",
        "import urllib.parse\n",
        "from src.bid_analysis import get_request_response_dataframe, extra_bids_from_response\n",
        "\n",
        "df = get_request_response_dataframe('../data/bids/*.json')\n",
        "# Parse 'body_req' JSON and extract 'imp' array, then explode into separate rows\n",
        "df['imps'] = df['body_req'].apply(lambda x: json.loads(x).get('imp', None))\n",
        "# df = df.explode('imp').reset_index(drop=True)\n",
        "df['bids'] = df['body_resp'].apply(lambda x: extra_bids_from_response(json.loads(x if x and isinstance(x, str) else '{}')))\n",
        "\n",
        "# df[df['requestId'] == '26424.687']['body_resp'].values[0]\n",
        "no_bid_df = df[(df['body_resp'].notna()) & (df['bids'].isna()) & (df['body_resp'].apply(lambda x: isinstance(x, str) and len(x) > 200))]\n",
        "\n",
        "output_root_dir = '../data/no_bids_found/'\n",
        "os.makedirs(output_root_dir, exist_ok=True)\n",
        "err_output_dir = os.path.join(output_root_dir, 'errors')\n",
        "os.makedirs(err_output_dir, exist_ok=True)\n",
        "sync_output_dir = os.path.join(output_root_dir, 'syncs')\n",
        "os.makedirs(sync_output_dir, exist_ok=True)\n",
        "nobid_output_dir = os.path.join(output_root_dir, 'no_bids')\n",
        "os.makedirs(nobid_output_dir, exist_ok=True)\n",
        "\n",
        "for _, row in no_bid_df.iterrows():   \n",
        "    body = json.loads(row['body_resp'])\n",
        "    body = body if isinstance(body, dict) else {}\n",
        "    pretty_json = json.dumps(body, indent=2, ensure_ascii=False)\n",
        "\n",
        "    out_dir = nobid_output_dir\n",
        "    try:\n",
        "        if 'sync' in body.get('ext', {}) or 'csUrl' in body.get('ext', {}):\n",
        "            out_dir = sync_output_dir\n",
        "        elif 'errors' in body.get('ext', {}):\n",
        "            out_dir = err_output_dir\n",
        "    except Exception:\n",
        "        raise Exception('Error determining output directory for requestId {}'.format(row['requestId']))\n",
        "    \n",
        "    file_path = os.path.join(out_dir, f\"{row['requestId']}.json\")\n",
        "    \n",
        "    with open(file_path, 'w', encoding='utf-8') as f:\n",
        "        # Pretty format the JSON string before writing\n",
        "        try:\n",
        "            f.write(pretty_json)\n",
        "        except Exception:\n",
        "            f.write(row['body_resp'])\n"
      ]
    },
    {
      "cell_type": "code",
      "execution_count": null,
      "id": "7ef89f00",
      "metadata": {},
      "outputs": [],
      "source": [
        "def combine_imp_bid(row):\n",
        "    imps = row['imps'] if isinstance(row['imps'], list) else []\n",
        "    bids = row['bids'] if isinstance(row['bids'], list) else []\n",
        "    bid_map = {bid.get('impid'): bid for bid in bids if 'impid' in bid}\n",
        "    combined = []\n",
        "    for imp in imps:\n",
        "        imp_id = imp.get('id')\n",
        "        bid = bid_map.get(imp_id, bid_map.get(str(imp_id)))\n",
        "        combined.append({'impid': str(imp_id), 'imp': imp, 'bid': bid})\n",
        "    return combined\n",
        "\n",
        "df['imp_bids'] = df.apply(combine_imp_bid, axis=1)\n",
        "df = df.explode('imp_bids').reset_index(drop=True)\n",
        "df['impid'] = df['imp_bids'].apply(lambda x: x.get('impid') if isinstance(x, dict) else None)\n",
        "df['imp'] = df['imp_bids'].apply(lambda x: x.get('imp') if isinstance(x, dict) else None)\n",
        "df['bid'] = df['imp_bids'].apply(lambda x: x.get('bid') if isinstance(x, dict) else None)\n",
        "#df = df.drop(columns=['imps', 'bids', 'imp_bids'])\n",
        "df"
      ]
    },
    {
      "cell_type": "code",
      "execution_count": null,
      "id": "635450e1",
      "metadata": {},
      "outputs": [],
      "source": [
        "from src.bid_analysis import extract_placement_id, extract_demand_source_from_nurl, extract_win_notice_url\n",
        "\n",
        "df['placement_id'] = df['imp'].apply(lambda x: extract_placement_id(x) if isinstance(x, dict) else None)\n",
        "df['bid_price'] = df['bid'].apply(lambda x: x.get('price') if isinstance(x, dict) else None)\n",
        "df['bid_currency'] = df['body_resp'].apply(lambda x: json.loads(x).get('cur') if isinstance(x, str) else None)\n",
        "df['advertiser_domain'] = df['bid'].apply(lambda x: ','.join(x.get('adomain')) if isinstance(x, dict) and x.get('adomain') else None)\n",
        "df['demand_source'] = df['bid'].apply(lambda x: extract_demand_source_from_nurl(x) if isinstance(x, dict) else None)\n",
        "df['document_domain'] = df['documentURL'].apply(lambda x: urllib.parse.urlparse(x).netloc if isinstance(x, str) else None)\n",
        "df['bidder_domain'] = df['url_req'].apply(lambda x: urllib.parse.urlparse(x).netloc if isinstance(x, str) else None)\n",
        "df['nurl']  = df['bid'].apply(lambda x: extract_win_notice_url(x) if isinstance(x, dict) else None)\n",
        "df['nurl_domain'] = df['nurl'].apply(lambda x: urllib.parse.urlparse(x).netloc if isinstance(x, str) else None)\n",
        "df['lurl_domain'] = df['bid'].apply(lambda x: urllib.parse.urlparse(x.get('lurl')).netloc if isinstance(x, dict) and x.get('lurl') else None)\n",
        "\n",
        "df[df['bid'].notna()][['requestId', 'impid', 'bid', 'imp', 'placement_id', 'bid_price', 'bid_currency', 'advertiser_domain', 'demand_source', 'nurl_domain', 'lurl_domain', 'document_domain', 'bidder_domain']]\n",
        "#.groupby('placement_id').agg({'bid_price': ['mean', 'count']}).reset_index().sort_values(('bid_price', 'mean'), ascending=False)"
      ]
    },
    {
      "cell_type": "code",
      "execution_count": null,
      "id": "20470511",
      "metadata": {},
      "outputs": [],
      "source": [
        "df[df['nurl_domain'].notna()][['requestId', 'impid', 'bid', 'imp', 'placement_id', 'bid_price', 'bid_currency', 'advertiser_domain', 'demand_source', 'nurl_domain', 'lurl_domain', 'document_domain', 'bidder_domain']]"
      ]
    },
    {
      "cell_type": "code",
      "execution_count": null,
      "id": "2cc0250d",
      "metadata": {
        "vscode": {
          "languageId": "javascript"
        }
      },
      "outputs": [],
      "source": [
        "df[df['bid'].apply(lambda x: json.dumps(x).find('\"win\"') != -1)][['requestId', 'impid', 'body_resp', 'bid', 'imp', 'placement_id', 'bid_price', 'bid_currency', 'advertiser_domain', 'demand_source', 'url_req']]"
      ]
    },
    {
      "cell_type": "code",
      "execution_count": null,
      "id": "d090f449",
      "metadata": {},
      "outputs": [],
      "source": [
        "df.groupby(['document_domain', 'bidder_domain', 'advertiser_domain', 'bid_currency']).agg({'bid_price': ['mean', 'max', 'min', 'count']}).reset_index().sort_values(('bid_price', 'mean'), ascending=False)"
      ]
    },
    {
      "cell_type": "code",
      "execution_count": null,
      "id": "4f4761f5",
      "metadata": {},
      "outputs": [],
      "source": [
        "import json\n",
        "requestId = '23504.50'\n",
        "impid = 'urldecoder-org_siderail_right_1'\n",
        "# print(json.dumps(json.loads(df[(df['requestId'] == requestId) & (df['impid'] == impid)]['body_resp'].values[0]), indent=2, ensure_ascii=False))\n",
        "print(json.dumps(df[(df['requestId'] == requestId) & (df['impid'] == impid)]['bid'].values[0], indent=2, ensure_ascii=False))"
      ]
    },
    {
      "cell_type": "code",
      "execution_count": null,
      "id": "84c1e49c",
      "metadata": {},
      "outputs": [],
      "source": [
        "print(df[(df['requestId'] == requestId) & (df['impid'] == impid)]['bid'].values[0].get('adm'))"
      ]
    }
  ],
  "metadata": {
    "kernelspec": {
      "display_name": "venv",
      "language": "python",
      "name": "python3"
    },
    "language_info": {
      "codemirror_mode": {
        "name": "ipython",
        "version": 3
      },
      "file_extension": ".py",
      "mimetype": "text/x-python",
      "name": "python",
      "nbconvert_exporter": "python",
      "pygments_lexer": "ipython3",
      "version": "3.13.5"
    }
  },
  "nbformat": 4,
  "nbformat_minor": 5
}
