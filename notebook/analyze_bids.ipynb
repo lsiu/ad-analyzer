{
  "cells": [
    {
      "cell_type": "markdown",
      "id": "9b1e4d1d",
      "metadata": {},
      "source": [
        "# Analyzing OpenRTB Bids\n",
        "\n",
        "This notebook analyzes bid request/response pairs from OpenRTB data to extract placement IDs with their corresponding bid prices from each demand source. The following fields are commonly used to identify placement IDs in OpenRTB:\n",
        "\n",
        "1. `imp.ext.gpid` - Global Placement ID\n",
        "2. `imp.tagid` - Tag ID\n",
        "3. `imp.ext.data.pbadslot` - Publisher Ad Slot\n",
        "4. `imp.id` - Impression ID\n",
        "5. `imp.ext.dfp_id` - DFP Ad Unit Code\n",
        "\n",
        "We'll extract these placement identifiers along with the bid prices for each demand source."
      ]
    },
    {
      "cell_type": "code",
      "execution_count": null,
      "id": "c15aa267",
      "metadata": {},
      "outputs": [],
      "source": [
        "try:\n",
        "    import pandas as pd\n",
        "except ImportError:\n",
        "    import sys\n",
        "    !{sys.executable} -m pip install pandas"
      ]
    },
    {
      "cell_type": "code",
      "execution_count": null,
      "id": "881b944e",
      "metadata": {},
      "outputs": [],
      "source": [
        "import json\n",
        "import os\n",
        "import re\n",
        "from glob import glob\n",
        "import urllib.parse\n",
        "from bid_analysis import extract_bids_from_responses, extract_placements_from_requests\n",
        "\n",
        "# Find all bid data files in the bids directory\n",
        "bid_files = glob(\"../data/bids/*.json\")\n",
        "print(f\"Found {len(bid_files)} bid data files\")"
      ]
    },
    {
      "cell_type": "code",
      "execution_count": null,
      "id": "7b327803",
      "metadata": {},
      "outputs": [],
      "source": [
        "# Process all bid data files\n",
        "all_bid_data = []\n",
        "\n",
        "for bid_file in bid_files:\n",
        "    print(f\"Processing bid data file: {bid_file}\")\n",
        "    \n",
        "    # Load the bid data\n",
        "    with open(bid_file, 'r', encoding='UTF-8') as f:\n",
        "        bid_data = json.load(f)\n",
        "    \n",
        "    # Extract requests and responses\n",
        "    requests = bid_data.get('requests', [])\n",
        "    responses = bid_data.get('responses', [])\n",
        "    \n",
        "    print(f\"Found {len(requests)} requests with placement information\")\n",
        "    print(f\"Found {len(responses)} bid responses\")\n",
        "    \n",
        "    # Extract placement IDs from requests\n",
        "    placement_map = extract_placements_from_requests(requests)\n",
        "    \n",
        "    # Extract bids from responses\n",
        "    bids = extract_bids_from_responses(responses)\n",
        "    \n",
        "    # Add placement IDs to bid data by matching request and impression IDs\n",
        "    for bid in bids:\n",
        "        req_id = bid['request_id']\n",
        "        imp_id = bid['placement_id']  # This is actually the impid from the bid\n",
        "        \n",
        "        # Look up the actual placement ID from our mapping\n",
        "        if req_id in placement_map and imp_id in placement_map[req_id]:\n",
        "            bid['placement_id'] = placement_map[req_id][imp_id]\n",
        "    \n",
        "    all_bid_data.extend(bids)\n",
        "    print(f\"Extracted {len(bids)} bid records\")"
      ]
    },
    {
      "cell_type": "code",
      "execution_count": null,
      "id": "5f45e5c1",
      "metadata": {},
      "outputs": [],
      "source": [
        "import pandas as pd\n",
        "# Create a DataFrame from the extracted bid data\n",
        "df = pd.DataFrame(all_bid_data)\n",
        "\n",
        "# If the DataFrame is empty, create a sample with the right structure\n",
        "if df.empty:\n",
        "    df = pd.DataFrame(columns=['request_id', 'placement_id', 'bid_price', 'bid_currency', \n",
        "                               'demand_source', 'advertiser_domain', 'creative_id', \n",
        "                               'creative_width', 'creative_height'])"
      ]
    },
    {
      "cell_type": "code",
      "execution_count": null,
      "id": "b618e984",
      "metadata": {},
      "outputs": [],
      "source": [
        "print(f\"Total bid records: {len(df)}\")\n",
        "print(\"\\nSummary statistics for bid prices:\")\n",
        "df[['bid_price']].describe()"
      ]
    },
    {
      "cell_type": "code",
      "execution_count": null,
      "id": "566793d2",
      "metadata": {},
      "outputs": [],
      "source": [
        "print(\"\\nTop 10 highest bids:\")\n",
        "df.sort_values('bid_price', ascending=False).head(10)[['request_id', 'placement_id', 'bid_price', 'bid_currency', 'demand_source', 'advertiser_domain']]"
      ]
    },
    {
      "cell_type": "code",
      "execution_count": null,
      "id": "a865b4d5",
      "metadata": {},
      "outputs": [],
      "source": [
        "print(\"\\nTop 10 most frequent placement IDs:\")\n",
        "# Count occurrences of each placement ID\n",
        "placement_counts = df['placement_id'].value_counts().reset_index()\n",
        "placement_counts.columns = ['placement_id', 'frequency']\n",
        "placement_counts.head(10)"
      ]
    },
    {
      "cell_type": "code",
      "execution_count": null,
      "id": "b01d505c",
      "metadata": {},
      "outputs": [],
      "source": [
        "print(\"\\nAverage bid price by demand source (top 10):\")\n",
        "# Group by demand source and calculate average bid price and count\n",
        "demand_source_stats = df.groupby('demand_source').agg({\n",
        "    'bid_price': 'mean',\n",
        "    'placement_id': 'count'\n",
        "}).reset_index()\n",
        "demand_source_stats.columns = ['demand_source', 'avg_bid_price', 'bid_count']\n",
        "demand_source_stats.sort_values('avg_bid_price', ascending=False).head(10)"
      ]
    },
    {
      "cell_type": "code",
      "execution_count": null,
      "id": "85d64941",
      "metadata": {},
      "outputs": [],
      "source": [
        "print(\"\\nBid price distribution by placement ID (top 5 placements with highest average bid price):\")\n",
        "# Group by placement ID and calculate bid statistics\n",
        "placement_stats = df.groupby('placement_id').agg({\n",
        "    'bid_price': ['mean', 'min', 'max'],\n",
        "    'request_id': 'count'\n",
        "}).reset_index()\n",
        "\n",
        "# Flatten column names\n",
        "placement_stats.columns = ['placement_id', 'avg_bid_price', 'min_bid', 'max_bid', 'bid_count']\n",
        "placement_stats.sort_values('avg_bid_price', ascending=False).head(5)"
      ]
    }
  ],
  "metadata": {
    "kernelspec": {
      "display_name": "venv",
      "language": "python",
      "name": "python3"
    },
    "language_info": {
      "codemirror_mode": {
        "name": "ipython",
        "version": 3
      },
      "file_extension": ".py",
      "mimetype": "text/x-python",
      "name": "python",
      "nbconvert_exporter": "python",
      "pygments_lexer": "ipython3",
      "version": "3.13.5"
    }
  },
  "nbformat": 4,
  "nbformat_minor": 5
}
